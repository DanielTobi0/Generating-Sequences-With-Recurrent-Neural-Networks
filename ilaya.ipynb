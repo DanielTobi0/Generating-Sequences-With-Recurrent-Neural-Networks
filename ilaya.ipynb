{
 "cells": [
  {
   "cell_type": "code",
   "execution_count": 1,
   "metadata": {},
   "outputs": [],
   "source": [
    "# !python -m spacy download fr_core_news_sm\n",
    "# !python -m spacy download en_core_web_sm\n",
    "\n",
    "import pandas as pd\n",
    "from sklearn.model_selection import train_test_split\n",
    "from datasets import load_dataset, Dataset, DatasetDict\n",
    "import spacy\n",
    "# import gc"
   ]
  },
  {
   "cell_type": "code",
   "execution_count": 2,
   "metadata": {},
   "outputs": [
    {
     "data": {
      "text/plain": [
       "DatasetDict({\n",
       "    train: Dataset({\n",
       "        features: ['en', 'fr'],\n",
       "        num_rows: 1800\n",
       "    })\n",
       "    test: Dataset({\n",
       "        features: ['en', 'fr'],\n",
       "        num_rows: 600\n",
       "    })\n",
       "    validation: Dataset({\n",
       "        features: ['en', 'fr'],\n",
       "        num_rows: 600\n",
       "    })\n",
       "})"
      ]
     },
     "execution_count": 2,
     "metadata": {},
     "output_type": "execute_result"
    }
   ],
   "source": [
    "data_files = {'validation': 'fr-en/validation-00000-of-00001.parquet'}\n",
    "dataset = load_dataset(path='wmt/wmt14', trust_remote_code=True, data_files=data_files)\n",
    "data = pd.DataFrame(dataset['validation'])\n",
    "\n",
    "train, temp = train_test_split(data, test_size=0.4, random_state=0)\n",
    "test, validation = train_test_split(temp, test_size=0.5, random_state=0)\n",
    "\n",
    "def process_translations(df):\n",
    "    en_texts = [item['en'] for item in df['translation']]\n",
    "    fr_texts = [item['fr'] for item in df['translation']]\n",
    "    \n",
    "    return pd.DataFrame({\n",
    "        'en': en_texts,\n",
    "        'fr': fr_texts\n",
    "    })\n",
    "\n",
    "train_processed = process_translations(train)\n",
    "test_processed = process_translations(test)\n",
    "validation_processed = process_translations(validation)\n",
    "\n",
    "train_dataset = Dataset.from_pandas(train_processed.reset_index(drop=True))\n",
    "test_dataset = Dataset.from_pandas(test_processed.reset_index(drop=True))\n",
    "validation_dataset = Dataset.from_pandas(validation_processed.reset_index(drop=True))\n",
    "\n",
    "ds = DatasetDict({\n",
    "    'train': train_dataset,\n",
    "    'test': test_dataset,\n",
    "    'validation': validation_dataset\n",
    "})\n",
    "\n",
    "ds"
   ]
  },
  {
   "cell_type": "code",
   "execution_count": 3,
   "metadata": {},
   "outputs": [],
   "source": [
    "# del dataset, data\n",
    "# del train, temp, test, validation\n",
    "# del process_translations, train_processed, test_processed, validation_dataset\n",
    "# gc.collect()"
   ]
  },
  {
   "cell_type": "code",
   "execution_count": 4,
   "metadata": {},
   "outputs": [
    {
     "data": {
      "application/vnd.jupyter.widget-view+json": {
       "model_id": "bddf11bcc4ef496593916bc9db0462a2",
       "version_major": 2,
       "version_minor": 0
      },
      "text/plain": [
       "Map:   0%|          | 0/1800 [00:00<?, ? examples/s]"
      ]
     },
     "metadata": {},
     "output_type": "display_data"
    },
    {
     "data": {
      "application/vnd.jupyter.widget-view+json": {
       "model_id": "ac1cd687f7ac4208b7c55d850a0c2a95",
       "version_major": 2,
       "version_minor": 0
      },
      "text/plain": [
       "Map:   0%|          | 0/600 [00:00<?, ? examples/s]"
      ]
     },
     "metadata": {},
     "output_type": "display_data"
    },
    {
     "data": {
      "application/vnd.jupyter.widget-view+json": {
       "model_id": "cd04bd8c407a4b31bd4ce4999a59c177",
       "version_major": 2,
       "version_minor": 0
      },
      "text/plain": [
       "Map:   0%|          | 0/600 [00:00<?, ? examples/s]"
      ]
     },
     "metadata": {},
     "output_type": "display_data"
    }
   ],
   "source": [
    "en_nlp = spacy.load('en_core_web_sm')\n",
    "fr_nlp = spacy.load('fr_core_news_sm')\n",
    "\n",
    "def tokenize_example(example, en_nlp, fr_nlp, max_length, sos_token, eos_token):\n",
    "    en_tokens = [token.text.lower() for token in en_nlp.tokenizer(example['en'])][:max_length]\n",
    "    fr_tokens = [token.text.lower() for token in fr_nlp.tokenizer(example['fr'])][:max_length]\n",
    "\n",
    "    en_tokens = [sos_token] + en_tokens + [eos_token]\n",
    "    fr_tokens = [sos_token] + fr_tokens + [eos_token]\n",
    "\n",
    "    return {'en_tokens': en_tokens, 'fr_tokens': fr_tokens} \n",
    "\n",
    "    \n",
    "max_length = 1000\n",
    "sos_token = '<sos>'\n",
    "eos_token = '<eos>'\n",
    "\n",
    "fn_kwargs = {\n",
    "    'en_nlp': en_nlp,\n",
    "    'fr_nlp': fr_nlp,\n",
    "    'max_length': max_length,\n",
    "    'sos_token': sos_token,\n",
    "    'eos_token': eos_token,\n",
    "}\n",
    "\n",
    "train_data, test_data, validation_data = (\n",
    "    ds['train'],\n",
    "    ds['test'],\n",
    "    ds['validation'],\n",
    ")\n",
    "\n",
    "train_data = train_data.map(tokenize_example, fn_kwargs=fn_kwargs)\n",
    "test_data = test_data.map(tokenize_example, fn_kwargs=fn_kwargs)\n",
    "validation_data = validation_data.map(tokenize_example, fn_kwargs=fn_kwargs)"
   ]
  },
  {
   "cell_type": "code",
   "execution_count": 5,
   "metadata": {},
   "outputs": [],
   "source": [
    "from collections import Counter\n",
    "\n",
    "def lang_str_int(lang, nlp):\n",
    "    lang_vocab = []\n",
    "    special_vocab = ['<unk>', '<pad>', '<sos>', '<eos>'] \n",
    "\n",
    "    flattened_list = [token.text.lower() for sentence in lang for token in nlp.tokenizer(sentence)]\n",
    "    lang_count = Counter(flattened_list)\n",
    "    lang_words = [string for string, freq in lang_count.items() if freq >= 2]\n",
    "\n",
    "    lang_vocab = special_vocab + lang_words\n",
    "    # lang_vocab.extend(special_vocab)\n",
    "    # lang_vocab.extend(lang_words)\n",
    "\n",
    "    lang_str2int = {ch: i for i, ch in enumerate(lang_vocab)}\n",
    "    lang_int2str = {i: ch for i, ch in enumerate(lang_vocab)}\n",
    "\n",
    "    return lang_str2int, lang_int2str\n",
    "\n",
    "en = process_translations(data)['en'].tolist()\n",
    "fr = process_translations(data)['fr'].tolist()\n",
    "\n",
    "fr_str2int, fr_int2str = lang_str_int(fr, fr_nlp)\n",
    "en_str2int, en_int2str = lang_str_int(en, en_nlp)"
   ]
  },
  {
   "cell_type": "code",
   "execution_count": 6,
   "metadata": {},
   "outputs": [
    {
     "data": {
      "application/vnd.jupyter.widget-view+json": {
       "model_id": "efca38d96d7243c392cffdcd5642fbc9",
       "version_major": 2,
       "version_minor": 0
      },
      "text/plain": [
       "Map:   0%|          | 0/1800 [00:00<?, ? examples/s]"
      ]
     },
     "metadata": {},
     "output_type": "display_data"
    },
    {
     "data": {
      "application/vnd.jupyter.widget-view+json": {
       "model_id": "9551b76a9ef74a258193d5feb4224875",
       "version_major": 2,
       "version_minor": 0
      },
      "text/plain": [
       "Map:   0%|          | 0/600 [00:00<?, ? examples/s]"
      ]
     },
     "metadata": {},
     "output_type": "display_data"
    },
    {
     "data": {
      "application/vnd.jupyter.widget-view+json": {
       "model_id": "cb79e58003cb41858edf1290507a53f6",
       "version_major": 2,
       "version_minor": 0
      },
      "text/plain": [
       "Map:   0%|          | 0/600 [00:00<?, ? examples/s]"
      ]
     },
     "metadata": {},
     "output_type": "display_data"
    }
   ],
   "source": [
    "import torch\n",
    "import numpy as np\n",
    "\n",
    "def token_to_int(example, str2int):\n",
    "    hh = [str2int.get(token, str2int['<unk>']) for token in example]\n",
    "    return hh\n",
    "\n",
    "def tokens_to_ids(example):\n",
    "    example['en_ids'] = token_to_int(example['en_tokens'], en_str2int)\n",
    "    example['fr_ids'] = token_to_int(example['fr_tokens'], fr_str2int)\n",
    "    return example\n",
    "\n",
    "train_data = train_data.map(tokens_to_ids)\n",
    "test_data = test_data.map(tokens_to_ids)\n",
    "validation_data = validation_data.map(tokens_to_ids)"
   ]
  },
  {
   "cell_type": "code",
   "execution_count": 7,
   "metadata": {},
   "outputs": [],
   "source": [
    "# def cast_torch(example):\n",
    "#     example['en_ids'] = torch.tensor(example['en_ids'], dtype=torch.long)\n",
    "#     return example\n",
    "\n",
    "# train_data.map(cast_torch)"
   ]
  },
  {
   "cell_type": "code",
   "execution_count": null,
   "metadata": {},
   "outputs": [],
   "source": []
  }
 ],
 "metadata": {
  "kernelspec": {
   "display_name": ".venv",
   "language": "python",
   "name": "python3"
  },
  "language_info": {
   "codemirror_mode": {
    "name": "ipython",
    "version": 3
   },
   "file_extension": ".py",
   "mimetype": "text/x-python",
   "name": "python",
   "nbconvert_exporter": "python",
   "pygments_lexer": "ipython3",
   "version": "3.11.0"
  }
 },
 "nbformat": 4,
 "nbformat_minor": 2
}
